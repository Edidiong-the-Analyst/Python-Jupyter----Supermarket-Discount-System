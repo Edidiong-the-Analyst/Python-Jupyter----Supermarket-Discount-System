{
 "cells": [
  {
   "cell_type": "markdown",
   "id": "e5ac36d8",
   "metadata": {},
   "source": [
    "### Supermarket scenario\n",
    "customer type = Corporate and Retail\n",
    "amount =\n",
    "corporate\n",
    "amount < 10000 = 20%\n",
    "amount < 40000 = 25%\n",
    "amount < 100000 = 30%\n",
    "amount > 100000 = 40%\n",
    "\n",
    "retail\n",
    "amount < 10000 = 10%\n",
    "amount < 40000 = 15%\n",
    "amount < 100000 = 20%\n",
    "amount > 100000 = 30%\n",
    "\n",
    "print amount\n",
    "print the discount\n",
    "amount = amount - discount\n",
    "\n"
   ]
  },
  {
   "cell_type": "code",
   "execution_count": 4,
   "id": "ae970f99",
   "metadata": {},
   "outputs": [
    {
     "name": "stdout",
     "output_type": "stream",
     "text": [
      "Hello Valued Customer, Welcome to EddyYoung Supermarket\n",
      "-------------------------------------------------------------\n",
      "What type of customer are you? Corporate or Retailer?: Corporate\n",
      "How much worth of goods did you acquire?: 150000\n",
      "-------------------------------------------------------------\n",
      "Thank you for your Patronage. \n",
      "As a Corporate Customer, you have been given a discount of 0.4%. \n",
      "Your purchase amount is 150000.0 \n",
      "Your Amount to pay due to discount is 90000.0. \n",
      "Have a nice day, hope to see you again soon.\n"
     ]
    }
   ],
   "source": [
    "print(f\"Hello Valued Customer, Welcome to EddyYoung Supermarket\")\n",
    "print(\"-------------------------------------------------------------\")\n",
    "cust_type = input(\"What type of customer are you? Corporate or Retailer?: \")\n",
    "amount = float(input(\"How much worth of goods did you acquire?: \"))\n",
    "\n",
    "if cust_type == \"Corporate\" or cust_type == \"Retailer\":\n",
    "    if cust_type == \"Corporate\":\n",
    "        if amount <= 10000:\n",
    "            discount = 0.2\n",
    "        elif amount <= 40000:\n",
    "            discount = 0.25\n",
    "        elif amount <= 100000:\n",
    "            discount = 0.3\n",
    "        else:\n",
    "            discount = 0.4\n",
    "        \n",
    "    elif cust_type == \"Retailer\":\n",
    "        if amount <= 10000:\n",
    "            discount = 0.1\n",
    "        elif amount <= 40000:\n",
    "            discount = 0.15\n",
    "        elif amount <= 100000:\n",
    "            discount = 0.2\n",
    "        else: \n",
    "            discount = 0.3\n",
    "        \n",
    "    amount_to_pay = amount * (1-discount)       # or amount - (amount * discount)\n",
    "\n",
    "    \n",
    "    print(\"-------------------------------------------------------------\")\n",
    "    print(f\"Thank you for your Patronage. \\nAs a {cust_type} Customer, you have been given a discount of {discount}%. \\nYour purchase amount is {amount} \\nYour Amount to pay due to discount is {amount_to_pay}. \\nHave a nice day, hope to see you again soon.\")\n",
    "\n",
    "else:\n",
    "    print(\"Invalid customer type\")"
   ]
  },
  {
   "cell_type": "code",
   "execution_count": 5,
   "id": "1f8e32f6",
   "metadata": {},
   "outputs": [
    {
     "name": "stdout",
     "output_type": "stream",
     "text": [
      "Hello Valued Customer, Welcome to EddyYoung Supermarket\n",
      "-------------------------------------------------------------\n",
      "What type of customer are you? Corporate or Retailer?: Retailer\n",
      "How much worth of goods did you acquire?: 150000\n",
      "-------------------------------------------------------------\n",
      "Thank you for your Patronage. \n",
      "As a Retailer Customer, you have been given a discount of 0.3%. \n",
      "Your purchase amount is 150000.0 \n",
      "Your Amount to pay due to discount is 105000.0. \n",
      "Have a nice day, hope to see you again soon.\n"
     ]
    }
   ],
   "source": [
    "print(f\"Hello Valued Customer, Welcome to EddyYoung Supermarket\")\n",
    "print(\"-------------------------------------------------------------\")\n",
    "cust_type = input(\"What type of customer are you? Corporate or Retailer?: \")\n",
    "amount = float(input(\"How much worth of goods did you acquire?: \"))\n",
    "\n",
    "if cust_type == \"Corporate\" or cust_type == \"Retailer\":\n",
    "    if cust_type == \"Corporate\":\n",
    "        if amount <= 10000:\n",
    "            discount = 0.2\n",
    "        elif amount <= 40000:\n",
    "            discount = 0.25\n",
    "        elif amount <= 100000:\n",
    "            discount = 0.3\n",
    "        else:\n",
    "            discount = 0.4\n",
    "        \n",
    "    elif cust_type == \"Retailer\":\n",
    "        if amount <= 10000:\n",
    "            discount = 0.1\n",
    "        elif amount <= 40000:\n",
    "            discount = 0.15\n",
    "        elif amount <= 100000:\n",
    "            discount = 0.2\n",
    "        else: \n",
    "            discount = 0.3\n",
    "        \n",
    "    amount_to_pay = amount * (1-discount)       # or amount - (amount * discount)\n",
    "\n",
    "    \n",
    "    print(\"-------------------------------------------------------------\")\n",
    "    print(f\"Thank you for your Patronage. \\nAs a {cust_type} Customer, you have been given a discount of {discount}%. \\nYour purchase amount is {amount} \\nYour Amount to pay due to discount is {amount_to_pay}. \\nHave a nice day, hope to see you again soon.\")\n",
    "\n",
    "else:\n",
    "    print(\"Invalid customer type\")"
   ]
  },
  {
   "cell_type": "code",
   "execution_count": 6,
   "id": "62749803",
   "metadata": {},
   "outputs": [
    {
     "name": "stdout",
     "output_type": "stream",
     "text": [
      "Hello Valued Customer, Welcome to EddyYoung Supermarket\n",
      "-------------------------------------------------------------\n",
      "What type of customer are you? Corporate or Retailer?: rettaa\n",
      "How much worth of goods did you acquire?: 40000\n",
      "Invalid customer type\n"
     ]
    }
   ],
   "source": [
    "print(f\"Hello Valued Customer, Welcome to EddyYoung Supermarket\")\n",
    "print(\"-------------------------------------------------------------\")\n",
    "cust_type = input(\"What type of customer are you? Corporate or Retailer?: \")\n",
    "amount = float(input(\"How much worth of goods did you acquire?: \"))\n",
    "\n",
    "if cust_type == \"Corporate\" or cust_type == \"Retailer\":\n",
    "    if cust_type == \"Corporate\":\n",
    "        if amount <= 10000:\n",
    "            discount = 0.2\n",
    "        elif amount <= 40000:\n",
    "            discount = 0.25\n",
    "        elif amount <= 100000:\n",
    "            discount = 0.3\n",
    "        else:\n",
    "            discount = 0.4\n",
    "        \n",
    "    elif cust_type == \"Retailer\":\n",
    "        if amount <= 10000:\n",
    "            discount = 0.1\n",
    "        elif amount <= 40000:\n",
    "            discount = 0.15\n",
    "        elif amount <= 100000:\n",
    "            discount = 0.2\n",
    "        else: \n",
    "            discount = 0.3\n",
    "        \n",
    "    amount_to_pay = amount * (1-discount)       # or amount - (amount * discount)\n",
    "\n",
    "    \n",
    "    print(\"-------------------------------------------------------------\")\n",
    "    print(f\"Thank you for your Patronage. \\nAs a {cust_type} Customer, you have been given a discount of {discount}%. \\nYour purchase amount is {amount} \\nYour Amount to pay due to discount is {amount_to_pay}. \\nHave a nice day, hope to see you again soon.\")\n",
    "\n",
    "else:\n",
    "    print(\"Invalid customer type\")"
   ]
  },
  {
   "cell_type": "code",
   "execution_count": null,
   "id": "4ee694ae",
   "metadata": {},
   "outputs": [],
   "source": []
  }
 ],
 "metadata": {
  "kernelspec": {
   "display_name": "Python 3 (ipykernel)",
   "language": "python",
   "name": "python3"
  },
  "language_info": {
   "codemirror_mode": {
    "name": "ipython",
    "version": 3
   },
   "file_extension": ".py",
   "mimetype": "text/x-python",
   "name": "python",
   "nbconvert_exporter": "python",
   "pygments_lexer": "ipython3",
   "version": "3.9.12"
  }
 },
 "nbformat": 4,
 "nbformat_minor": 5
}
